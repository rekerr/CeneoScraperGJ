{
 "cells": [
  {
   "cell_type": "markdown",
   "metadata": {},
   "source": [
    "## 1. pobieranie bibliotek"
   ]
  },
  {
   "cell_type": "code",
   "execution_count": 1,
   "metadata": {},
   "outputs": [],
   "source": [
    "import os\n",
    "import json\n",
    "import pandas as pd\n",
    "import numpy as np\n",
    "import matplotlib.pyplot as plt"
   ]
  },
  {
   "cell_type": "markdown",
   "metadata": {},
   "source": [
    "## 2. Lista kodów produktów o których zostały pobrane"
   ]
  },
  {
   "cell_type": "code",
   "execution_count": null,
   "metadata": {},
   "outputs": [],
   "source": [
    "print(*[filename.split(\".\")[0] for filename in os.listdir(\"opinions\")], sep=\"\\n\")"
   ]
  },
  {
   "cell_type": "markdown",
   "metadata": {},
   "source": [
    "## 3. Wyczytwanie opinii o wskazanym produkcie"
   ]
  },
  {
   "cell_type": "code",
   "execution_count": 3,
   "metadata": {},
   "outputs": [],
   "source": [
    "product_id = input(\"Podaj kod produktu z Ceneo.pl: \")\n",
    "opinions = pd.read_json(f\"opinions/{product_id}.json\")\n",
    "opinions.rating = opinions.rating.apply(lambda r: r.split(\"/\")[0].replace(\",\",\".\")).astype(float)"
   ]
  },
  {
   "cell_type": "markdown",
   "metadata": {},
   "source": [
    "## 4. Podstawowe statystyki"
   ]
  },
  {
   "cell_type": "code",
   "execution_count": 4,
   "metadata": {},
   "outputs": [],
   "source": [
    "opinions_count = opinions.shape[0]\n",
    "pros_count = opinions.pros.astype(bool).sum()\n",
    "cons_count = opinions.cons.astype(bool).sum()\n",
    "average_rating = opinions.rating.mean()\n"
   ]
  },
  {
   "cell_type": "markdown",
   "metadata": {},
   "source": [
    "## 5. Histogram ocen produktów"
   ]
  },
  {
   "cell_type": "code",
   "execution_count": null,
   "metadata": {},
   "outputs": [],
   "source": [
    "rating_distribution = opinions.rating.value_counts().reindex(np.arange(0,5.5,0.5))\n",
    "rating_distribution.plot.bar()\n",
    "plt.title(f\"Histogram ocen produktu {product_id}\")\n",
    "plt.xlabel(\"Licba gwiazdek\")\n",
    "plt.ylabel(\"Liczba opinii\")\n",
    "plt.xticks(rotation=0)\n",
    "for index, value in enumerate(rating_distribution):\n",
    "    plt.text(index, value+1.5, str(value), ha=\"center\")"
   ]
  },
  {
   "cell_type": "markdown",
   "metadata": {},
   "source": [
    "## 6. wykres udziału rekomendacji w opisach produktów"
   ]
  },
  {
   "cell_type": "code",
   "execution_count": null,
   "metadata": {},
   "outputs": [],
   "source": [
    "recomendation_distributions = opinions.recommandation.value_counts(dropna=False).reindex([\"Polecam\", \"Nie polecam\", None])\n",
    "recomendation_distributions.plot.pie(\n",
    "    label = \"\",\n",
    "    autopct = lambda r: f\"{r:1.1f}%\" if r>0 else \"\",\n",
    "    labels = [\"Polecam\", \"Nie polecam\", \"Nie mam zdania\"], \n",
    "    colors = [\"green\", \"crimson\", \"grey\"]\n",
    ")\n",
    "\n",
    "plt.title(f\"Udział rekomendacji w opiniaach o produkcie {product_id}\")"
   ]
  },
  {
   "cell_type": "code",
   "execution_count": null,
   "metadata": {},
   "outputs": [],
   "source": [
    "stats = {\n",
    "    \"product_id\": product_id,\n",
    "    \"opinions_count\": opinions_count,\n",
    "    \"pros_count\": int(pros_count),\n",
    "    \"cons_count\": int(cons_count),\n",
    "    \"average_rating\": average_rating,\n",
    "    \"rating_distribution\": rating_distribution.to_dict(),\n",
    "    \"recommendation_distribution\": recomendation_distributions.to_dict()\n",
    "}"
   ]
  },
  {
   "cell_type": "code",
   "execution_count": null,
   "metadata": {},
   "outputs": [],
   "source": [
    "if not os.path.exists(\"stats\"):\n",
    "    os.mkdir(\"stats\")\n",
    "with open(f\"opinions/{product_id}.json\", \"w\", encoding=\"UTF-8\") as jf:\n",
    "    json.dump(stats, jf, indent=4, ensure_ascii=False)\n"
   ]
  }
 ],
 "metadata": {
  "kernelspec": {
   "display_name": ".venv",
   "language": "python",
   "name": "python3"
  },
  "language_info": {
   "codemirror_mode": {
    "name": "ipython",
    "version": 3
   },
   "file_extension": ".py",
   "mimetype": "text/x-python",
   "name": "python",
   "nbconvert_exporter": "python",
   "pygments_lexer": "ipython3",
   "version": "3.12.4"
  }
 },
 "nbformat": 4,
 "nbformat_minor": 2
}
